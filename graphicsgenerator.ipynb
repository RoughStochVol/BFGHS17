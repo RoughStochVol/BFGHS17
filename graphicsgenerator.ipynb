{
 "cells": [
  {
   "cell_type": "markdown",
   "metadata": {},
   "source": [
    "# Modified rough Bergomi graphics generation "
   ]
  },
  {
   "cell_type": "markdown",
   "metadata": {},
   "source": [
    "Jupyter Notebook to generate the graphics needed in paper:\n",
    "\n",
    "- C. Bayer, P.K. Friz, A. Gulisashvili, B. Horvath, B. Stemper (2017). *Short dated option pricing under rough volatility.*\n",
    "\n"
   ]
  },
  {
   "cell_type": "code",
   "execution_count": 1,
   "metadata": {
    "collapsed": false
   },
   "outputs": [],
   "source": [
    "# Standard library imports\n",
    "from math import sqrt, log, e\n",
    "import matplotlib.pyplot as plt\n",
    "import numpy as np\n",
    "\n",
    "%matplotlib inline \n",
    "\n",
    "# Import RoughStochVol Package\n",
    "import code.BlackScholes as BS\n",
    "import code.ModRoughBergomi as MRB"
   ]
  },
  {
   "cell_type": "markdown",
   "metadata": {},
   "source": [
    "Parameter setting"
   ]
  },
  {
   "cell_type": "code",
   "execution_count": 2,
   "metadata": {
    "collapsed": false
   },
   "outputs": [],
   "source": [
    "# Manual creation of Simulation ID (for creating log-files)\n",
    "sim_id = 9\n",
    "\n",
    "# Seed setting for reproducibility of stochastic simulations\n",
    "np.random.seed(0)\n",
    "\n",
    "# Model parameters\n",
    "spot_price = 1\n",
    "spot_variance = 0.0654\n",
    "vol_of_vol = 0.2928\n",
    "rho = -0.7571\n",
    "hurst_index = 0.1\n",
    "\n",
    "# Monte Carlo parameters\n",
    "time_steps = 500\n",
    "mc_runs = 10**5\n",
    "\n",
    "# Option parameters\n",
    "flag = 'c'\n",
    "last_time = 1\n",
    "maturities_list = np.linspace(last_time/time_steps, last_time, time_steps)\n",
    "log_strike_const = 0.4\n",
    "\n",
    "# Asymptotics parameters\n",
    "beta = 0.06\n",
    "spot_vol = sqrt(spot_variance)\n",
    "spot_vol_prime = 1/2 * vol_of_vol * spot_vol"
   ]
  },
  {
   "cell_type": "code",
   "execution_count": 3,
   "metadata": {
    "collapsed": false
   },
   "outputs": [],
   "source": [
    "# Writing parameters to log-file\n",
    "with open(\"%s_log.txt\" %sim_id, \"w\") as log_file:\n",
    "    log_file.write(\"# Parameters # \\n\")\n",
    "    log_file.write(\"Simulation ID: %s \\n\" % sim_id)\n",
    "    log_file.write(\"Spot price: %s \\n\" % spot_price)\n",
    "    log_file.write(\"Spot variance: %s \\n\" % spot_variance)\n",
    "    log_file.write(\"Vol of vol: %s \\n\" % vol_of_vol)\n",
    "    log_file.write(\"Rho: %s \\n\" % rho)\n",
    "    log_file.write(\"Hurst index: %s \\n\" % hurst_index)\n",
    "    log_file.write(\"Time steps: %s \\n\" % time_steps)\n",
    "    log_file.write(\"MC runs (individual batches): %s \\n\" % mc_runs)\n",
    "    log_file.write(\"Flag: %s \\n\" % flag)\n",
    "    log_file.write(\"Last time: %s \\n\" % last_time)\n",
    "    log_file.write(\"Log strike constant: %s \\n\" % log_strike_const)\n",
    "    log_file.write(\"Beta: %s \\n\" % beta)"
   ]
  },
  {
   "cell_type": "markdown",
   "metadata": {},
   "source": [
    "# Data generation"
   ]
  },
  {
   "cell_type": "markdown",
   "metadata": {},
   "source": [
    "Section to generate data for plots:\n",
    "- one cell to generate asymptotics data (log strikes, abs log call prices, implied vols)\n",
    "- one cell to do Cholesky Monte Carlo generation of option prices (single run)\n",
    "- one cell to do Cholesky Monte Carlo generation of very large samples sizes via splitting up in batches, saving intermediate results and later collecting and merging individual results"
   ]
  },
  {
   "cell_type": "markdown",
   "metadata": {},
   "source": [
    "### Asymptotics:"
   ]
  },
  {
   "cell_type": "code",
   "execution_count": 4,
   "metadata": {
    "collapsed": false
   },
   "outputs": [],
   "source": [
    "# INITIALIZATION\n",
    "log_strikes = np.zeros(maturities_list.size)\n",
    "asy_abs_log_call_price = np.zeros(maturities_list.size)\n",
    "asy_imp_vol = np.zeros(maturities_list.size)\n",
    "\n",
    "# GENERATION\n",
    "for index, item in enumerate(maturities_list):\n",
    "\n",
    "    asy = MRB.Asymptotics(hurst_index, log_strike_const, item, beta, rho, \n",
    "                          spot_vol, spot_vol_prime)\n",
    "\n",
    "    # Computing and storing asymptotics\n",
    "    log_strikes[index] = asy.get_log_strike()\n",
    "    asy_abs_log_call_price[index] = asy.get_abs_log_call_price()\n",
    "    asy_imp_vol[index] = asy.get_implied_vol()"
   ]
  },
  {
   "cell_type": "markdown",
   "metadata": {},
   "source": [
    "### Rough vol Cholesky Monte Carlo (Single run)"
   ]
  },
  {
   "cell_type": "code",
   "execution_count": null,
   "metadata": {
    "collapsed": false
   },
   "outputs": [],
   "source": [
    "# INITIALIZATION\n",
    "# ==============\n",
    "strikes = np.exp(log_strikes)\n",
    "\n",
    "mc = CholeskyMC(hurst_index, time_steps, last_time, rho, \n",
    "                spot_variance, spot_price, vol_of_vol)\n",
    "\n",
    "# DATA GENERATION\n",
    "# ===============\n",
    "\n",
    "# Compute asset price paths\n",
    "log_price_paths = mc.get_log_price_paths(mc_runs)[:, 1:]\n",
    "price_paths = np.exp(log_price_paths)\n",
    "\n",
    "# Compute option prices\n",
    "option_prices = np.maximum(price_paths - strikes, 0)\n",
    "chol_option_prices = np.average(option_prices, axis=0)\n",
    "chol_option_prices_std = np.sqrt(np.var(option_prices, axis=0)/mc_runs)"
   ]
  },
  {
   "cell_type": "markdown",
   "metadata": {},
   "source": [
    "*Saving and loading of data*"
   ]
  },
  {
   "cell_type": "code",
   "execution_count": null,
   "metadata": {
    "collapsed": true
   },
   "outputs": [],
   "source": [
    "np.save(\"%s_chol_option_prices\" %sim_id, chol_option_prices)\n",
    "np.save(\"%s_chol_option_prices_std\", chol_option_prices_std)"
   ]
  },
  {
   "cell_type": "code",
   "execution_count": null,
   "metadata": {
    "collapsed": false
   },
   "outputs": [],
   "source": [
    "chol_option_prices = np.load(\"1_chol_option_prices.npy\")\n",
    "chol_option_prices_std = np.load(\"1_chol_option_prices_std.npy\")"
   ]
  },
  {
   "cell_type": "markdown",
   "metadata": {},
   "source": [
    "*Transfer to absolute log call price*"
   ]
  },
  {
   "cell_type": "code",
   "execution_count": null,
   "metadata": {
    "collapsed": false
   },
   "outputs": [],
   "source": [
    "chol_abs_log_call_price = np.abs(np.log(chol_option_prices))"
   ]
  },
  {
   "cell_type": "markdown",
   "metadata": {},
   "source": [
    "### Rough vol Cholesky Monte Carlo (Batch runs)"
   ]
  },
  {
   "cell_type": "code",
   "execution_count": null,
   "metadata": {
    "collapsed": false
   },
   "outputs": [],
   "source": [
    "# INITIALIZATION\n",
    "# ==============\n",
    "nb_batches = 1000\n",
    "strikes = np.exp(log_strikes)\n",
    "sums_avgs = np.zeros(time_steps)\n",
    "sums_vars = np.zeros(time_steps)\n",
    "\n",
    "# Initialisation of object creates Cholesky matrix \n",
    "mc = MRB.CholeskyPricer(hurst_index, time_steps, last_time, rho, \n",
    "                        spot_variance, spot_price, vol_of_vol)\n",
    "\n",
    "# BATCH COMPUTATION\n",
    "# =================\n",
    "\n",
    "for index in range(nb_batches):\n",
    "    \n",
    "    # Compute asset price paths\n",
    "    log_price_paths = mc.get_log_price_paths(mc_runs)[:, 1:]\n",
    "    price_paths = np.exp(log_price_paths)\n",
    "\n",
    "    # Convert to option prices\n",
    "    option_prices = np.maximum(price_paths - strikes, 0)\n",
    "    \n",
    "    # Add to running sums\n",
    "    sums_avgs += np.average(option_prices, axis=0)\n",
    "    sums_vars += np.var(option_prices, axis=0)\n",
    "    \n",
    "    print(\"run %i completed\" %index)\n",
    "\n",
    "# PUTTING BATCHES TOGETHER\n",
    "chol_option_prices = sums_avgs/nb_batches\n",
    "chol_option_prices_std = np.sqrt(sums_vars/(nb_batches*mc_runs))\n",
    "\n",
    "# ADDING INFO TO LOGFILE\n",
    "with open(\"%s_log.txt\" %sim_id, \"a\") as log_file:\n",
    "    log_file.write(\"Number of batches (each with MC runs): %s \\n\" % nb_batches )"
   ]
  },
  {
   "cell_type": "markdown",
   "metadata": {},
   "source": [
    "*Saving and loading of data*"
   ]
  },
  {
   "cell_type": "code",
   "execution_count": null,
   "metadata": {
    "collapsed": true
   },
   "outputs": [],
   "source": [
    "np.save(\"%s_chol_option_prices\" % sim_id, chol_option_prices)\n",
    "np.save(\"%s_chol_option_prices_std\" % sim_id, chol_option_prices_std)"
   ]
  },
  {
   "cell_type": "code",
   "execution_count": null,
   "metadata": {
    "collapsed": false
   },
   "outputs": [],
   "source": [
    "chol_option_prices = np.load(\"1_chol_option_prices.npy\")\n",
    "chol_option_prices_std = np.load(\"1_chol_option_prices_std.npy\")"
   ]
  },
  {
   "cell_type": "markdown",
   "metadata": {},
   "source": [
    "*Confidence interval computations*"
   ]
  },
  {
   "cell_type": "code",
   "execution_count": null,
   "metadata": {
    "collapsed": false
   },
   "outputs": [],
   "source": [
    "# 95% Confidence interval bounds for calls\n",
    "chol_call_ci_top = chol_option_prices + 1.96 * chol_option_prices_std\n",
    "chol_call_ci_low = chol_option_prices - 1.96 * chol_option_prices_std\n",
    "\n",
    "# 95% Confidence interval bounds for log call (note inversion)\n",
    "chol_logcall_ci_low = np.abs(np.log(chol_call_ci_top))\n",
    "chol_logcall_ci_top = np.abs(np.log(chol_call_ci_low))"
   ]
  },
  {
   "cell_type": "markdown",
   "metadata": {},
   "source": [
    "*Transfer to absolute log call price*"
   ]
  },
  {
   "cell_type": "code",
   "execution_count": null,
   "metadata": {
    "collapsed": false
   },
   "outputs": [],
   "source": [
    "chol_abs_log_call_price = np.abs(np.log(chol_option_prices))"
   ]
  },
  {
   "cell_type": "markdown",
   "metadata": {},
   "source": [
    "### Black-Scholes"
   ]
  },
  {
   "cell_type": "code",
   "execution_count": null,
   "metadata": {
    "collapsed": true
   },
   "outputs": [],
   "source": [
    "# INITIALIZATION\n",
    "strikes = np.exp(log_strikes)\n",
    "bsgbm_option_prices = np.zeros(maturities_list.size)\n",
    "bsgbm_option_prices_std = np.zeros(maturities_list.size)\n",
    "mc_samples = 10**8\n",
    "\n",
    "# DATA GENERATION\n",
    "for index, time in enumerate(maturities_list):\n",
    "\n",
    "    bs = BS.Pricer(flag, spot_price, strikes[index], time, spot_vol)\n",
    "\n",
    "    bsgbm_option_prices[index], bsgbm_option_prices_std[index] = bs.get_price_via_GBM(mc_samples)\n",
    "    \n",
    "# LOGGING\n",
    "with open(\"%s_log.txt\" %sim_id, \"a\") as log_file:\n",
    "    log_file.write(\"BS GBM Monte Carlo Samples: %s \\n\" % mc_samples )"
   ]
  },
  {
   "cell_type": "markdown",
   "metadata": {},
   "source": [
    "*Saving and loading of data*"
   ]
  },
  {
   "cell_type": "code",
   "execution_count": null,
   "metadata": {
    "collapsed": true
   },
   "outputs": [],
   "source": [
    "np.save(\"%s_bsgbm_option_prices\" % sim_id, bsgbm_option_prices)\n",
    "np.save(\"%s_bsgbm_option_prices_std\" % sim_id, bsgbm_option_prices_std)"
   ]
  },
  {
   "cell_type": "code",
   "execution_count": null,
   "metadata": {
    "collapsed": true
   },
   "outputs": [],
   "source": [
    "bsgbm_option_prices = np.load(\"1_bsgbm_option_prices.npy\")\n",
    "bsgbm_option_prices_std = np.load(\"1_bsgbm_option_prices_std.npy\")"
   ]
  },
  {
   "cell_type": "markdown",
   "metadata": {},
   "source": [
    "*Computation of confidence intervals*"
   ]
  },
  {
   "cell_type": "code",
   "execution_count": null,
   "metadata": {
    "collapsed": false
   },
   "outputs": [],
   "source": [
    "# 95% Confidence interval bounds for calls\n",
    "bsgbm_call_ci_top = bsgbm_option_prices + 1.96 * bsgbm_option_prices_std\n",
    "bsgbm_call_ci_low = bsgbm_option_prices - 1.96 * bsgbm_option_prices_std\n",
    "\n",
    "# 95% Confidence interval bounds for log call (note inversion)\n",
    "bsgbm_logcall_ci_low = np.abs(np.log(bsgbm_call_ci_top))\n",
    "bsgbm_logcall_ci_top = np.abs(np.log(bsgbm_call_ci_low))"
   ]
  },
  {
   "cell_type": "markdown",
   "metadata": {},
   "source": [
    "*Transfer to absolute log call price*"
   ]
  },
  {
   "cell_type": "code",
   "execution_count": null,
   "metadata": {
    "collapsed": false
   },
   "outputs": [],
   "source": [
    "bsgbm_abs_log_call_price = np.abs(np.log(bsgbm_option_prices))"
   ]
  },
  {
   "cell_type": "code",
   "execution_count": null,
   "metadata": {
    "collapsed": false
   },
   "outputs": [],
   "source": []
  },
  {
   "cell_type": "markdown",
   "metadata": {},
   "source": [
    "### Test cells"
   ]
  },
  {
   "cell_type": "markdown",
   "metadata": {},
   "source": [
    "Generate Log Call Prices via BS Formula from Asymptotic Implied Vol Formula"
   ]
  },
  {
   "cell_type": "code",
   "execution_count": null,
   "metadata": {
    "collapsed": false
   },
   "outputs": [],
   "source": [
    "# calls_via_asyimpvol = []\n",
    "# strikes = np.exp(log_strikes)\n",
    "\n",
    "# for index, item in enumerate(maturities_list):\n",
    "    \n",
    "#     BS = BlackScholes(flag, spot_price, strikes[index], item, asy_imp_vol[index])\n",
    "    \n",
    "#     calls_via_asyimpvol.append(BS.get_option_price())\n",
    "    \n",
    "# abs_logcalls_via_asyimpvol = abs(np.log(calls_via_asyimpvol))"
   ]
  },
  {
   "cell_type": "markdown",
   "metadata": {},
   "source": [
    "# Plotting #"
   ]
  },
  {
   "cell_type": "code",
   "execution_count": null,
   "metadata": {
    "collapsed": false
   },
   "outputs": [],
   "source": [
    "import seaborn as sns\n",
    "\n",
    "sns.set_context(\"paper\")\n",
    "sns.set(font='serif')\n",
    "sns.set_style(\"white\", {\n",
    "        \"font.family\": \"serif\",\n",
    "        \"font.serif\": [\"Times\", \"Palatino\", \"serif\"]})"
   ]
  },
  {
   "cell_type": "markdown",
   "metadata": {},
   "source": [
    "## Absolute log call price:"
   ]
  },
  {
   "cell_type": "code",
   "execution_count": null,
   "metadata": {
    "collapsed": true
   },
   "outputs": [],
   "source": [
    "ratio = chol_abs_log_call_price/asy_abs_log_call_price"
   ]
  },
  {
   "cell_type": "code",
   "execution_count": null,
   "metadata": {
    "collapsed": false
   },
   "outputs": [],
   "source": [
    "fig2 = plt.figure()\n",
    "alcp = fig2.add_subplot(1,1,1)\n",
    "\n",
    "alcp.set_title('Rough vol: Absolute log call price dynamics')\n",
    "alcp.set_xlabel('Time to maturity $t$')\n",
    "alcp.set_ylabel('Absolute log call price $|\\log \\, c(k_t, t)|$')\n",
    "alcp.plot(maturities_list, asy_abs_log_call_price, '-g', label='Asymptotic formula')\n",
    "alcp.plot(maturities_list, chol_abs_log_call_price, '--b', label='Cholesky Pricer')\n",
    "#alcp.plot(maturities_list, bsgbm_abs_log_call_price, '--b', label='Geometric Brownian Motion (GBM)')\n",
    "alcp.fill_between(maturities_list, chol_logcall_ci_low, chol_logcall_ci_top, interpolate=True, alpha=0.25, \n",
    "                facecolor='blue', label='95% Confidence Interval Cholesky')\n",
    "alcp.set_xlim([0, last_time])\n",
    "#alcp.set_ylim([0, 50])\n",
    "\n",
    "\n",
    "alcp2 = alcp.twinx()\n",
    "alcp2.set_ylabel('Ratio Cholesky/Asymptotics')\n",
    "alcp2.plot(maturities_list, ratio, '-m', label='Ratio Cholesky/Asymptotics')\n",
    "alcp.set_xlim([0,last_time])\n",
    "\n",
    "\n",
    "lines, labels = alcp.get_legend_handles_labels()\n",
    "lines2, labels2 = alcp2.get_legend_handles_labels()\n",
    "alcp2.legend(lines + lines2, labels + labels2, loc='upper right', frameon=True)"
   ]
  },
  {
   "cell_type": "code",
   "execution_count": null,
   "metadata": {
    "collapsed": false
   },
   "outputs": [],
   "source": [
    "fig2.savefig(\"%s_logcall.pdf\" %sim_id, dpi=500)"
   ]
  },
  {
   "cell_type": "markdown",
   "metadata": {},
   "source": [
    "## Implied volatility:"
   ]
  },
  {
   "cell_type": "markdown",
   "metadata": {},
   "source": [
    "Computing implied volatilities from Monte Carlo prices:"
   ]
  },
  {
   "cell_type": "code",
   "execution_count": null,
   "metadata": {
    "collapsed": false,
    "scrolled": true
   },
   "outputs": [],
   "source": [
    "# INITIALIZATION\n",
    "chol_imp_vol = np.zeros(maturities_list.size)\n",
    "bsgbm_imp_vol = np.zeros(maturities_list.size)\n",
    "strikes = np.exp(log_strikes)\n",
    "lower_bound = 0.2\n",
    "upper_bound = 0.5\n",
    "\n",
    "# COMPUTATION\n",
    "for index, item in enumerate(maturities_list):\n",
    "    \n",
    "    obj = BS.ImpliedVol(flag, chol_option_prices[index], spot_price, strikes[index], item, \n",
    "                         lower_bound, upper_bound, maxiter=1000, method ='f')\n",
    "    \n",
    "    chol_imp_vol[index] = obj.get()"
   ]
  },
  {
   "cell_type": "code",
   "execution_count": null,
   "metadata": {
    "collapsed": false
   },
   "outputs": [],
   "source": [
    "# INITIALIZATION\n",
    "iv_upper = np.zeros(maturities_list.size)\n",
    "iv_lower = np.zeros(maturities_list.size)\n",
    "\n",
    "# COMPUTATION\n",
    "for index, item in enumerate(maturities_list):\n",
    "    \n",
    "    obj1 = BS.ImpliedVol(flag, chol_call_ci_top[index], spot_price, strikes[index], item, \n",
    "                         lower_bound, upper_bound, maxiter=1000, method ='f')\n",
    "    \n",
    "    obj2 = BS.ImpliedVol(flag, chol_call_ci_low[index], spot_price, strikes[index], item, \n",
    "                         lower_bound, upper_bound, maxiter=1000, method ='f')\n",
    "    \n",
    "\n",
    "    iv_upper[index] = obj1.get()\n",
    "    iv_lower[index] = obj2.get()"
   ]
  },
  {
   "cell_type": "code",
   "execution_count": null,
   "metadata": {
    "collapsed": true
   },
   "outputs": [],
   "source": [
    "iv_upper-iv_lower"
   ]
  },
  {
   "cell_type": "markdown",
   "metadata": {},
   "source": [
    "### Implied vol error"
   ]
  },
  {
   "cell_type": "code",
   "execution_count": null,
   "metadata": {
    "collapsed": true
   },
   "outputs": [],
   "source": [
    "ratio = chol_imp_vol/asy_imp_vol"
   ]
  },
  {
   "cell_type": "markdown",
   "metadata": {},
   "source": [
    "### Plotting"
   ]
  },
  {
   "cell_type": "code",
   "execution_count": null,
   "metadata": {
    "collapsed": false
   },
   "outputs": [],
   "source": [
    "fig3 = plt.figure()\n",
    "iv = fig3.add_subplot(1,1,1)\n",
    "iv.set_title('Rough vol: Implied volatility dynamics')\n",
    "#iv.set_title('Rough vol: Implied volatility dynamics')\n",
    "iv.set_xlabel('Time to maturity $t$')\n",
    "iv.set_ylabel('Implied volatility $\\sigma_{impl}(k_t, t)$')\n",
    "iv.plot(maturities_list, asy_imp_vol,'-g', linewidth=1,label='Asymptotic formula')\n",
    "#iv.plot(maturities_list, bsgbm_imp_vol, '-b', label='Geometric Brownian Motion (GBM)')\n",
    "iv.plot(maturities_list, chol_imp_vol, 'ob',markersize=0.5, label='Cholesky Pricer')\n",
    "iv.fill_between(maturities_list, iv_lower, iv_upper, interpolate=True, alpha=0.25, \n",
    "                facecolor='blue', label='95% Normal Confidence Interval')\n",
    "#iv.plot(maturities_list, mc_imp_vol, '-', markersize=3, label='Monte Carlo')\n",
    "#iv.plot(maturities_list, test, '-', label='Numerical from Asymptotic Log call')\n",
    "#iv.semilogx(maturities_list, spot_vol, '-', label='Black-Scholes')\n",
    "iv.set_xlim([0, last_time])\n",
    "#iv.set_ylim([0.255, 0.2561])\n",
    "\n",
    "\n",
    "iv2 = iv.twinx()\n",
    "iv2.plot(maturities_list, ratio, '-m', markersize=3, label='Ratio Cholesky/Asymptotics')\n",
    "iv2.set_xlim([0, last_time])\n",
    "iv2.set_ylabel('Ratio Cholesky/Asymptotics')\n",
    "#iv2.set_ylabel('Relative error in %')\n",
    "#iv2.plot(maturities_list, rel_err_pc, '+m', markersize=3, label='Relative error')\n",
    "#iv2.semilogy(maturities_list, abs_err, '+', markersize=3, label='Absolute error')\n",
    "#iv2.set_ylabel('Absolute error')\n",
    "iv2.set_xlim([0, last_time])\n",
    "#iv2.set_ylim([0.995, 1.015])\n",
    "\n",
    "#iv3 = iv.twinx()\n",
    "# iv3.plot(maturities_list, abs_err, label='Absolute error')\n",
    "# Second, show the right spine.\n",
    "# iv3.spines[\"right\"].set_visible(True)\n",
    "# iv3.spines[\"right\"].set_position((\"axes\", 1.15))\n",
    "# iv3.set_ylabel('Relative error in %')\n",
    "# iv3.plot(maturities_list, rel_err_pc, '+c', markersize=3, label='Relative error')\n",
    "#iv3.semilogy(maturities_list, abs_err, '+m', markersize=3, label='Absolute error')\n",
    "#iv3.set_ylabel('Absolute error')\n",
    "# iv3.set_xlim([0, last_time])\n",
    "#iv3.set_ylim([0, 0.0004])\n",
    "\n",
    "\n",
    "lines, labels = iv.get_legend_handles_labels()\n",
    "lines2, labels2 = iv2.get_legend_handles_labels()\n",
    "#lines3, labels3 = iv3.get_legend_handles_labels()\n",
    "iv.legend(lines + lines2, labels + labels2, loc='upper right', frameon=True)"
   ]
  },
  {
   "cell_type": "code",
   "execution_count": null,
   "metadata": {
    "collapsed": true
   },
   "outputs": [],
   "source": [
    "del(lines2, labels2)"
   ]
  },
  {
   "cell_type": "code",
   "execution_count": null,
   "metadata": {
    "collapsed": false
   },
   "outputs": [],
   "source": [
    "fig3.savefig(\"%s_impvolDetail.pdf\" %sim_id, dpi=500)"
   ]
  },
  {
   "cell_type": "markdown",
   "metadata": {
    "collapsed": true
   },
   "source": [
    "## Log-strikes"
   ]
  },
  {
   "cell_type": "code",
   "execution_count": null,
   "metadata": {
    "collapsed": false
   },
   "outputs": [],
   "source": [
    "fig1 = plt.figure()\n",
    "ls = fig1.add_subplot(1,1,1)\n",
    "ls.set_title('Log-strike behaviour')\n",
    "ls.set_xlabel('Time to maturity')\n",
    "ls.set_ylabel('Log-strike')\n",
    "ls.plot(maturities_list, log_strikes)"
   ]
  },
  {
   "cell_type": "code",
   "execution_count": null,
   "metadata": {
    "collapsed": false
   },
   "outputs": [],
   "source": [
    "fig1.savefig(\"Log_strike4.pdf\")"
   ]
  },
  {
   "cell_type": "markdown",
   "metadata": {
    "collapsed": true
   },
   "source": [
    "# Pair plot Black-Scholes GBM"
   ]
  },
  {
   "cell_type": "code",
   "execution_count": null,
   "metadata": {
    "collapsed": true
   },
   "outputs": [],
   "source": [
    "# LOADING DATA\n",
    "\n",
    "atm_bsgbm_option_prices = np.load(\"3_bsgbm_option_prices.npy\")\n",
    "atm_bsgbm_option_prices_std = np.load(\"3_bsgbm_option_prices_std.npy\")\n",
    "\n",
    "motm_bsgbm_option_prices = np.load(\"1_bsgbm_option_prices.npy\")\n",
    "motm_bsgbm_option_prices_std = np.load(\"1_bsgbm_option_prices_std.npy\")"
   ]
  },
  {
   "cell_type": "code",
   "execution_count": null,
   "metadata": {
    "collapsed": true
   },
   "outputs": [],
   "source": [
    "# 95% Confidence interval bounds for ATM calls\n",
    "atm_bsgbm_call_ci_top = atm_bsgbm_option_prices + 1.96 * atm_bsgbm_option_prices_std\n",
    "atm_bsgbm_call_ci_low = atm_bsgbm_option_prices - 1.96 * atm_bsgbm_option_prices_std\n",
    "\n",
    "# 95% Confidence interval bounds for MOTM calls\n",
    "motm_bsgbm_call_ci_top = motm_bsgbm_option_prices + 1.96 * motm_bsgbm_option_prices_std\n",
    "motm_bsgbm_call_ci_low = motm_bsgbm_option_prices - 1.96 * motm_bsgbm_option_prices_std"
   ]
  },
  {
   "cell_type": "markdown",
   "metadata": {},
   "source": [
    "*Implied vol computations*"
   ]
  },
  {
   "cell_type": "code",
   "execution_count": null,
   "metadata": {
    "collapsed": false
   },
   "outputs": [],
   "source": [
    "# INITIALIZATION\n",
    "# ==============\n",
    "\n",
    "atm_bsgbm_imp_vol = np.zeros(maturities_list.size)\n",
    "motm_bsgbm_imp_vol = np.zeros(maturities_list.size)\n",
    "\n",
    "atm_iv_top = np.zeros(maturities_list.size)\n",
    "atm_iv_low = np.zeros(maturities_list.size)\n",
    "\n",
    "motm_iv_top = np.zeros(maturities_list.size)\n",
    "motm_iv_low = np.zeros(maturities_list.size)\n",
    "\n",
    "strikes = np.exp(log_strikes)\n",
    "lower_bound = 0.2\n",
    "upper_bound = 0.5\n",
    "\n",
    "# COMPUTATION\n",
    "# ===========\n",
    "\n",
    "for index, item in enumerate(maturities_list):\n",
    "    \n",
    "    atm_obj = BS.ImpliedVol(flag, atm_bsgbm_option_prices[index], spot_price, 1, item, \n",
    "                         lower_bound, upper_bound, maxiter=1000, method ='f')\n",
    "    \n",
    "    atm_obj_top = BS.ImpliedVol(flag, atm_bsgbm_call_ci_top[index], spot_price, 1, item, \n",
    "                         lower_bound, upper_bound, maxiter=1000, method ='f')\n",
    "    \n",
    "    atm_obj_low = BS.ImpliedVol(flag, atm_bsgbm_call_ci_low[index], spot_price, 1, item, \n",
    "                         lower_bound, upper_bound, maxiter=1000, method ='f')\n",
    "    \n",
    "    motm_obj = BS.ImpliedVol(flag, motm_bsgbm_option_prices[index], spot_price, strikes[index], item, \n",
    "                         lower_bound, upper_bound, maxiter=1000, method ='f')\n",
    "    \n",
    "    motm_obj_top = BS.ImpliedVol(flag, motm_bsgbm_call_ci_top[index], spot_price, strikes[index], item, \n",
    "                         lower_bound, upper_bound, maxiter=1000, method ='f')\n",
    "    \n",
    "    motm_obj_low = BS.ImpliedVol(flag, motm_bsgbm_call_ci_low[index], spot_price, strikes[index], item, \n",
    "                         lower_bound, upper_bound, maxiter=1000, method ='f')\n",
    "    \n",
    "    atm_bsgbm_imp_vol[index] = atm_obj.get()\n",
    "    motm_bsgbm_imp_vol[index] = motm_obj.get()\n",
    "    \n",
    "    atm_iv_top[index] = atm_obj_top.get()\n",
    "    atm_iv_low[index] = atm_obj_low.get()\n",
    "    \n",
    "    motm_iv_top[index] = motm_obj_top.get()\n",
    "    motm_iv_low[index] = motm_obj_low.get()"
   ]
  },
  {
   "cell_type": "code",
   "execution_count": null,
   "metadata": {
    "collapsed": false
   },
   "outputs": [],
   "source": [
    "fig4 = plt.figure(figsize=(10,6))\n",
    "fig4.suptitle(\"Black-Scholes: Implied volatility dynamics\")\n",
    "\n",
    "# LEFT FIGURE\n",
    "ax1 = fig4.add_subplot(1,2,1)\n",
    "ax1.set_title('ATM: $k_t=0$')\n",
    "ax1.set_xlabel('Time to maturity $t$ (in years)')\n",
    "ax1.set_ylabel('Implied volatility $\\sigma_{impl}(k_t, t)$')\n",
    "ax2.set_xlim([0, 0.5])\n",
    "ax1.set_ylim([0.2552, 0.2563])\n",
    "ax1.plot(maturities_list, asy_imp_vol, '-g', label='Asymptotic formula')\n",
    "ax1.plot(maturities_list, atm_bsgbm_imp_vol, '-b', linewidth=1,label='Geometric Brownian Motion (GBM)')\n",
    "ax1.fill_between(maturities_list, atm_iv_top, atm_iv_low, interpolate=True, alpha=0.25, \n",
    "                facecolor='blue', label='95% Normal Confidence Interval')\n",
    "\n",
    "# RIGHT FIGURE\n",
    "ax2 = fig4.add_subplot(1,2,2)\n",
    "ax2.set_title('MOTM: $k_t = 0.4t^{0.3}$')\n",
    "ax2.set_xlabel('Time to maturity $t$ (in years)')\n",
    "#ax2.set_ylabel('Implied volatility $\\sigma_{impl}(k_t, t)$')\n",
    "ax2.set_xlim([0, 0.5])\n",
    "ax2.set_ylim([0.2552, 0.2563])\n",
    "ax2.plot(maturities_list, asy_imp_vol, '-g', label='Asymptotic formula')\n",
    "ax2.plot(maturities_list, motm_bsgbm_imp_vol, '-b', linewidth=1,label='Geometric Brownian Motion (GBM)')\n",
    "ax2.fill_between(maturities_list, motm_iv_top, motm_iv_low, interpolate=True, alpha=0.25, \n",
    "                facecolor='blue', label='95% Normal Confidence Interval')\n",
    "\n",
    "lines, labels = ax1.get_legend_handles_labels()\n",
    "#fig4.legend(lines, labels, loc = 'lower center', ncol=1, frameon=True )\n",
    "fig4.legend( lines, labels, loc = 'lower center', bbox_to_anchor = (0,-0.1,1,1),\n",
    "            bbox_transform = plt.gcf().transFigure, ncol=3, frameon=True )\n",
    "#fig4.tight_layout()"
   ]
  },
  {
   "cell_type": "code",
   "execution_count": null,
   "metadata": {
    "collapsed": true
   },
   "outputs": [],
   "source": [
    "fig4.savefig(\"%s_impvol_pairT05.pdf\" %sim_id, bbox_inches='tight', dpi=500)\n",
    "#fig.savefig('samplefigure', bbox_extra_artists=(lgd,), bbox_inches='tight')"
   ]
  },
  {
   "cell_type": "markdown",
   "metadata": {
    "collapsed": true
   },
   "source": [
    "# Quadruple Plot Rough Implied Vol"
   ]
  },
  {
   "cell_type": "code",
   "execution_count": null,
   "metadata": {
    "collapsed": true
   },
   "outputs": [],
   "source": []
  }
 ],
 "metadata": {
  "kernelspec": {
   "display_name": "Python 3",
   "language": "python",
   "name": "python3"
  },
  "language_info": {
   "codemirror_mode": {
    "name": "ipython",
    "version": 3
   },
   "file_extension": ".py",
   "mimetype": "text/x-python",
   "name": "python",
   "nbconvert_exporter": "python",
   "pygments_lexer": "ipython3",
   "version": "3.5.1"
  }
 },
 "nbformat": 4,
 "nbformat_minor": 0
}
